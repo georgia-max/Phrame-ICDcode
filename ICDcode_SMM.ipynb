{
 "cells": [
  {
   "cell_type": "code",
   "id": "initial_id",
   "metadata": {
    "collapsed": true,
    "ExecuteTime": {
     "end_time": "2024-04-23T13:56:55.560317Z",
     "start_time": "2024-04-23T13:56:55.555546Z"
    }
   },
   "source": [
    "import pandas as pd \n",
    "import numpy as np\n",
    "import matplotlib.pyplot as plt\n",
    "import math\n",
    "from thefuzz import process\n",
    "from thefuzz import fuzz\n"
   ],
   "outputs": [],
   "execution_count": 213
  },
  {
   "metadata": {},
   "cell_type": "markdown",
   "source": "# Read ICD code on Severe Maternal Morbidity ",
   "id": "f3d84f2ededfcd08"
  },
  {
   "metadata": {
    "ExecuteTime": {
     "end_time": "2024-04-23T13:56:56.089088Z",
     "start_time": "2024-04-23T13:56:55.671202Z"
    }
   },
   "cell_type": "code",
   "source": [
    "sheet_to_df_map = pd.read_excel(\"Dataset/AIM-SMM-Code-List_04042023.xlsx\", sheet_name=None, header=None, dtype=str)\n",
    "sheet_to_df_map.keys()"
   ],
   "id": "5f63153eac88a595",
   "outputs": [
    {
     "data": {
      "text/plain": [
       "dict_keys(['Title Page', 'Annotations', 'ICD-9 & 10 SMM Numerator Codes', 'Denominator | Birth Admit Codes', 'Blood Transfusions Codes', 'SMM Denominator | Preeclampsia', 'SMM Denominator | HEM', 'SMM Denominator | CPPSUD', 'SMM Denominator| CCOC ', 'SMM Denominator| SOC', 'SMM Denominator|PMHC'])"
      ]
     },
     "execution_count": 214,
     "metadata": {},
     "output_type": "execute_result"
    }
   ],
   "execution_count": 214
  },
  {
   "metadata": {
    "ExecuteTime": {
     "end_time": "2024-04-23T13:56:56.115413Z",
     "start_time": "2024-04-23T13:56:56.094251Z"
    }
   },
   "cell_type": "code",
   "source": [
    "df_icd10_smm = sheet_to_df_map.get(\"ICD-9 & 10 SMM Numerator Codes\").iloc[5:].reset_index(drop=True)\n",
    "\n",
    "new_header = df_icd10_smm.iloc[0] #grab the first row for the header\n",
    "df_icd10_smm = df_icd10_smm[1:] #take the data less the header row\n",
    "df_icd10_smm.columns = new_header #set the header row as the df header\n",
    "\n",
    "df_icd10_smm.head(5)"
   ],
   "id": "d854eaf51696b594",
   "outputs": [
    {
     "data": {
      "text/plain": [
       "0                   SMM Indicator Diagnosis or Procedure Code?         ICD-9   \\\n",
       "1  1. Acute myocardial infarction                    Diagnosis         410.xx   \n",
       "2                             NaN                    Diagnosis            NaN   \n",
       "3                     2. Aneurysm                    Diagnosis         441.xx   \n",
       "4                             NaN                    Diagnosis            NaN   \n",
       "5          3. Acute renal failure                    Diagnosis  584.5 - 584.9   \n",
       "\n",
       "0  ICD-10                                 ICD-10 Description  \\\n",
       "1  I21.xx                        Acute myocardial infarction   \n",
       "2   I22.x  Subsequent ST elevation (STEMI) and non-ST ele...   \n",
       "3  I71.xx                     Aortic aneurysm and dissection   \n",
       "4   I79.0  Aneurysm of aorta in diseases classified elsew...   \n",
       "5   N17.x                               Acute kidney failure   \n",
       "\n",
       "0                                               Note  \\\n",
       "1                                                NaN   \n",
       "2                                                NaN   \n",
       "3  No I71.7 code exists, so ICD-10 list includes ...   \n",
       "4                                                NaN   \n",
       "5                                                NaN   \n",
       "\n",
       "0                   Rare Prevalence Group Complication Group  \n",
       "1  Acute myocardial infarction & aneurysm            Cardiac  \n",
       "2                                     NaN                NaN  \n",
       "3                                     NaN                NaN  \n",
       "4                                     NaN                NaN  \n",
       "5                     Acute renal failure              Renal  "
      ],
      "text/html": [
       "<div>\n",
       "<style scoped>\n",
       "    .dataframe tbody tr th:only-of-type {\n",
       "        vertical-align: middle;\n",
       "    }\n",
       "\n",
       "    .dataframe tbody tr th {\n",
       "        vertical-align: top;\n",
       "    }\n",
       "\n",
       "    .dataframe thead th {\n",
       "        text-align: right;\n",
       "    }\n",
       "</style>\n",
       "<table border=\"1\" class=\"dataframe\">\n",
       "  <thead>\n",
       "    <tr style=\"text-align: right;\">\n",
       "      <th></th>\n",
       "      <th>SMM Indicator</th>\n",
       "      <th>Diagnosis or Procedure Code?</th>\n",
       "      <th>ICD-9</th>\n",
       "      <th>ICD-10</th>\n",
       "      <th>ICD-10 Description</th>\n",
       "      <th>Note</th>\n",
       "      <th>Rare Prevalence Group</th>\n",
       "      <th>Complication Group</th>\n",
       "    </tr>\n",
       "  </thead>\n",
       "  <tbody>\n",
       "    <tr>\n",
       "      <th>1</th>\n",
       "      <td>1. Acute myocardial infarction</td>\n",
       "      <td>Diagnosis</td>\n",
       "      <td>410.xx</td>\n",
       "      <td>I21.xx</td>\n",
       "      <td>Acute myocardial infarction</td>\n",
       "      <td>NaN</td>\n",
       "      <td>Acute myocardial infarction &amp; aneurysm</td>\n",
       "      <td>Cardiac</td>\n",
       "    </tr>\n",
       "    <tr>\n",
       "      <th>2</th>\n",
       "      <td>NaN</td>\n",
       "      <td>Diagnosis</td>\n",
       "      <td>NaN</td>\n",
       "      <td>I22.x</td>\n",
       "      <td>Subsequent ST elevation (STEMI) and non-ST ele...</td>\n",
       "      <td>NaN</td>\n",
       "      <td>NaN</td>\n",
       "      <td>NaN</td>\n",
       "    </tr>\n",
       "    <tr>\n",
       "      <th>3</th>\n",
       "      <td>2. Aneurysm</td>\n",
       "      <td>Diagnosis</td>\n",
       "      <td>441.xx</td>\n",
       "      <td>I71.xx</td>\n",
       "      <td>Aortic aneurysm and dissection</td>\n",
       "      <td>No I71.7 code exists, so ICD-10 list includes ...</td>\n",
       "      <td>NaN</td>\n",
       "      <td>NaN</td>\n",
       "    </tr>\n",
       "    <tr>\n",
       "      <th>4</th>\n",
       "      <td>NaN</td>\n",
       "      <td>Diagnosis</td>\n",
       "      <td>NaN</td>\n",
       "      <td>I79.0</td>\n",
       "      <td>Aneurysm of aorta in diseases classified elsew...</td>\n",
       "      <td>NaN</td>\n",
       "      <td>NaN</td>\n",
       "      <td>NaN</td>\n",
       "    </tr>\n",
       "    <tr>\n",
       "      <th>5</th>\n",
       "      <td>3. Acute renal failure</td>\n",
       "      <td>Diagnosis</td>\n",
       "      <td>584.5 - 584.9</td>\n",
       "      <td>N17.x</td>\n",
       "      <td>Acute kidney failure</td>\n",
       "      <td>NaN</td>\n",
       "      <td>Acute renal failure</td>\n",
       "      <td>Renal</td>\n",
       "    </tr>\n",
       "  </tbody>\n",
       "</table>\n",
       "</div>"
      ]
     },
     "execution_count": 215,
     "metadata": {},
     "output_type": "execute_result"
    }
   ],
   "execution_count": 215
  },
  {
   "metadata": {
    "ExecuteTime": {
     "end_time": "2024-04-23T13:56:56.126157Z",
     "start_time": "2024-04-23T13:56:56.119078Z"
    }
   },
   "cell_type": "code",
   "source": [
    "# Grab all the codes from ICD-10 and store them in a list \n",
    "list_dx = []\n",
    "dx_smm = df_icd10_smm['ICD-10'].to_list()\n",
    " \n",
    "list_dx.extend(dx_smm)"
   ],
   "id": "57d438ad69a685fe",
   "outputs": [],
   "execution_count": 216
  },
  {
   "metadata": {
    "ExecuteTime": {
     "end_time": "2024-04-23T13:56:56.140276Z",
     "start_time": "2024-04-23T13:56:56.132494Z"
    }
   },
   "cell_type": "code",
   "source": [
    "df_icd10_birth = sheet_to_df_map.get(\"Denominator | Birth Admit Codes\").iloc[6:].reset_index(drop=True)\n",
    "\n",
    "new_header = df_icd10_birth.iloc[0] #grab the first row for the header\n",
    "df_icd10_birth = df_icd10_birth[1:] #take the data less the header row\n",
    "df_icd10_birth.columns = new_header #set the header row as the df header\n",
    "\n",
    "dx_smm_birth = df_icd10_birth['ICD-10'].to_list()\n",
    "list_dx.extend(dx_smm_birth)"
   ],
   "id": "5fec80608c5fd94e",
   "outputs": [],
   "execution_count": 217
  },
  {
   "metadata": {
    "ExecuteTime": {
     "end_time": "2024-04-23T13:56:56.150561Z",
     "start_time": "2024-04-23T13:56:56.143788Z"
    }
   },
   "cell_type": "code",
   "source": [
    "df_icd10_blood = sheet_to_df_map.get(\"Blood Transfusions Codes\").iloc[4:].reset_index(drop=True)\n",
    "\n",
    "new_header = df_icd10_blood.iloc[0] #grab the first row for the header\n",
    "df_icd10_blood = df_icd10_blood[1:] #take the data less the header row\n",
    "df_icd10_blood.columns = new_header #set the header row as the df header\n",
    "\n",
    "# df_icd10_blood\n",
    "\n",
    "dx_smm_blood = df_icd10_blood['ICD-10'].to_list()\n",
    "list_dx.extend(dx_smm_blood)\n"
   ],
   "id": "32edbc6837a1d8dd",
   "outputs": [],
   "execution_count": 218
  },
  {
   "metadata": {
    "ExecuteTime": {
     "end_time": "2024-04-23T13:56:56.164067Z",
     "start_time": "2024-04-23T13:56:56.154561Z"
    }
   },
   "cell_type": "code",
   "source": [
    "df_icd10_pre = sheet_to_df_map.get(\"SMM Denominator | Preeclampsia\").iloc[3:].reset_index(drop=True)\n",
    "\n",
    "new_header = df_icd10_pre.iloc[0] #grab the first row for the header\n",
    "df_icd10_pre = df_icd10_pre[1:] #take the data less the header row\n",
    "df_icd10_pre.columns = new_header #set the header row as the df header\n",
    "\n",
    "# df_icd10_pre\n",
    "\n",
    "dx_smm_pre = df_icd10_pre['ICD-10 '].to_list()\n",
    "list_dx.extend(dx_smm_pre)"
   ],
   "id": "3a2dd54c5b284a62",
   "outputs": [],
   "execution_count": 219
  },
  {
   "metadata": {
    "ExecuteTime": {
     "end_time": "2024-04-23T13:56:56.179445Z",
     "start_time": "2024-04-23T13:56:56.169100Z"
    }
   },
   "cell_type": "code",
   "source": [
    "df_icd10_hem = sheet_to_df_map.get(\"SMM Denominator | HEM\").iloc[2:].reset_index(drop=True)\n",
    "\n",
    "new_header = df_icd10_hem.iloc[0] #grab the first row for the header\n",
    "df_icd10_hem = df_icd10_hem[1:] #take the data less the header row\n",
    "df_icd10_hem.columns = new_header #set the header row as the df header\n",
    "\n",
    "df_icd10_hem.head(5)\n",
    "\n",
    "dx_smm_hem = df_icd10_hem['ICD-10'].to_list()\n",
    "list_dx.extend(dx_smm_hem)"
   ],
   "id": "769269b72f041185",
   "outputs": [],
   "execution_count": 220
  },
  {
   "metadata": {
    "ExecuteTime": {
     "end_time": "2024-04-23T13:56:56.193585Z",
     "start_time": "2024-04-23T13:56:56.182426Z"
    }
   },
   "cell_type": "code",
   "source": [
    "df_icd10_cpp = sheet_to_df_map.get(\"SMM Denominator | CPPSUD\").iloc[2:].reset_index(drop=True)\n",
    "\n",
    "new_header = df_icd10_cpp.iloc[0] #grab the first row for the header\n",
    "df_icd10_cpp = df_icd10_hem[1:] #take the data less the header row\n",
    "df_icd10_cpp.columns = new_header #set the header row as the df header\n",
    "\n",
    "df_icd10_cpp.head(5)\n",
    "\n",
    "dx_smm_cpp = df_icd10_cpp['ICD10 Code'].to_list()\n",
    "list_dx.extend(dx_smm_cpp)"
   ],
   "id": "7129c2ad7f2acc6b",
   "outputs": [],
   "execution_count": 221
  },
  {
   "metadata": {
    "ExecuteTime": {
     "end_time": "2024-04-23T13:56:56.206160Z",
     "start_time": "2024-04-23T13:56:56.197227Z"
    }
   },
   "cell_type": "code",
   "source": [
    "list_dx = [x for x in list_dx if not (isinstance(x, float) and math.isnan(x))]\n",
    "\n",
    "list_dx = [element.replace(\".\", \"\") for element in list_dx]\n",
    "list_dx = [element.replace(\" \", \"\") for element in list_dx]\n",
    "\n",
    "# Delete duplicate \n",
    "list_dx = list(set(list_dx)) \n",
    "\n",
    "values_to_remove = ['AntepartumHemorrhage', 'Abruption', \"AnyPRstartingwith'10A0'\", 'Previa']\n",
    "\n",
    "list_dx = [value for value in list_dx if value not in values_to_remove]\n",
    "\n",
    "list_dx.sort()\n",
    "print(list_dx)\n"
   ],
   "id": "ca8ad7de39acee54",
   "outputs": [
    {
     "name": "stdout",
     "output_type": "stream",
     "text": [
      "['0B110F4', '0B113F4', '0B114F4', '0UT90ZL', '0UT90ZZ', '0UT97ZZ', '10D00Z0-10D00Z2', '10D07Z3-0D07Z8', '10E0XZZ', '30230H0', '30230H1', '30230K0', '30230K1', '30230L0', '30230L1', '30230M0', '30230M1', '30230N0', '30230N1', '30230P0', '30230P1', '30230R0', '30230R1', '30230T0', '30230T1', '30233H0', '30233H1', '30233K0', '30233K1', '30233L0', '30233L1', '30233M0', '30233M1', '30233N0', '30233N1', '30233P0', '30233P1', '30233R0', '30233R1', '30233T0', '30233T1', '30240H0', '30240H1', '30240K0', '30240K1', '30240L0', '30240L1', '30240M0', '30240M1', '30240N0', '30240N1', '30240P0', '30240P1', '30240R0', '30240R1', '30240T0', '30240T1', '30243H0', '30243H1', '30243K0', '30243K1', '30243L0', '30243L1', '30243M0', '30243M1', '30243N0', '30243N1', '30243P0', '30243P1', '30243R0', '30243R1', '30243T0', '30243T1', '5A12012', '5A1935Z', '5A1945Z', '5A1955Z', '5A2204Z', '765', '766', '767', '768', '774', '775', '783', '784', '785', '786', '787', '788', '796', '797', '798', '805', '806', '807', '8883', 'A327', 'A40x', 'A41x', 'A812', 'D570x', 'D5721x', 'D5741x', 'D5781x', 'D65', 'D688', 'D689', 'G45x', 'G46x', 'G9349', 'H340x', 'I21xx', 'I22x', 'I2601', 'I2602', 'I2609', 'I2690', 'I2692', 'I2693', 'I2694', 'I2699', 'I46x', 'I490x', 'I501', 'I5020', 'I5021', 'I5023', 'I5030', 'I5031', 'I5033', 'I5040', 'I5041', 'I5043', 'I50810', 'I50811', 'I50813', 'I50814', 'I5082', 'I5083', 'I5084', 'I5089', 'I509', 'I60xx', 'I61xx', 'I62xx', 'I63xx', 'I65xx', 'I66xx', 'I67xx', 'I68xx', 'I71xx', 'I76', 'I790', 'I9712x', 'I9713x', 'I97711', 'I9781x', 'I9782x', 'ICD-10', 'J80', 'J810', 'J951', 'J952', 'J953', 'J9582x', 'J960x', 'J962x', 'J969x', 'N17x', 'O00x', 'O01x', 'O02x', 'O03x', 'O04x', 'O07x', 'O08x', 'O111', 'O112', 'O113', 'O114', 'O115', 'O119', 'O1410', 'O1412', 'O1413', 'O1414', 'O1415', 'O1420', 'O1422', 'O1423', 'O1424', 'O1425', 'O1500', 'O1502', 'O1503', 'O151', 'O152', 'O159', 'O15x', 'O2250', 'O2252', 'O2253', 'O29112', 'O29113', 'O29119', 'O29122', 'O29123', 'O29129', 'O29192', 'O29193', 'O29199', 'O29212', 'O29213', 'O29219', 'O29292', 'O29293', 'O29299', 'O43212', 'O43213', 'O43219', 'O43222', 'O43223', 'O43229', 'O43232', 'O43233', 'O43239', 'O4410', 'O4412', 'O4413', 'O4430', 'O4432', 'O4433', 'O4450', 'O4452', 'O4453', 'O45002', 'O45003', 'O45009', 'O45012', 'O45013', 'O45019', 'O45022', 'O45023', 'O45029', 'O45092', 'O45093', 'O45099', 'O458X2', 'O458X3', 'O458X9', 'O4590', 'O4592', 'O4593', 'O46002', 'O46003', 'O46009', 'O46012', 'O46013', 'O46019', 'O46022', 'O46023', 'O46029', 'O46092', 'O46093', 'O46099', 'O468X2', 'O468X3', 'O468X9', 'O4690', 'O4692', 'O4693', 'O670', 'O720', 'O721', 'O722', 'O723', 'O740', 'O741', 'O742', 'O743', 'O751', 'O7582', 'O80', 'O82', 'O85', 'O8604', 'O873', 'O88012', 'O88013', 'O88019', 'O8802', 'O8803', 'O88112', 'O88113', 'O88119', 'O8812', 'O8813', 'O88212', 'O88213', 'O88219', 'O8822', 'O8823', 'O88312', 'O88313', 'O88319', 'O8832', 'O8833', 'O88812', 'O88813', 'O88819', 'O8882', 'O890x', 'O891', 'O892', 'O904', 'OUT97ZL', 'R0603', 'R092', 'R57x', 'R6520', 'R6521', 'T782XXA', 'T800XXA', 'T8110XA', 'T8111XA', 'T8112XA', 'T8119XA', 'T8144XA', 'T882XXA', 'T883XXA', 'T886XXA', 'Z37xx']\n"
     ]
    }
   ],
   "execution_count": 222
  },
  {
   "metadata": {
    "ExecuteTime": {
     "end_time": "2024-04-23T13:56:56.221494Z",
     "start_time": "2024-04-23T13:56:56.215335Z"
    }
   },
   "cell_type": "code",
   "source": "print(\"ICD codes on Maternal Morbidity: \", len(list_dx))\n",
   "id": "931dd7011e0f8ac8",
   "outputs": [
    {
     "name": "stdout",
     "output_type": "stream",
     "text": [
      "ICD codes on Maternal Morbidity:  333\n"
     ]
    }
   ],
   "execution_count": 223
  },
  {
   "metadata": {},
   "cell_type": "markdown",
   "source": "# Read HCUP ICD code to CCSR code ",
   "id": "604976c6485bb47d"
  },
  {
   "metadata": {
    "ExecuteTime": {
     "end_time": "2024-04-23T13:57:10.668323Z",
     "start_time": "2024-04-23T13:56:56.225658Z"
    }
   },
   "cell_type": "code",
   "source": [
    "df_dx_ccsr = pd.read_excel(\"Dataset/HCUP-CCSR/DXCCSR-Reference-File-v2024-1.xlsx\", sheet_name=\"DX_to_CCSR_Mapping\", header=None).iloc[1:].reset_index(drop=True)\n",
    "\n",
    "new_header = df_dx_ccsr.iloc[0] #grab the first row for the header\n",
    "df_dx_ccsr = df_dx_ccsr[1:] #take the data less the header row\n",
    "df_dx_ccsr.columns = new_header #set the header row as the df header\n",
    "\n",
    "df_dx_ccsr"
   ],
   "id": "deb952691a692ef2",
   "outputs": [
    {
     "data": {
      "text/plain": [
       "0      ICD-10-CM Code                         ICD-10-CM Code Description  \\\n",
       "1                A000  Cholera due to Vibrio cholerae 01, biovar chol...   \n",
       "2                A000  Cholera due to Vibrio cholerae 01, biovar chol...   \n",
       "3                A001    Cholera due to Vibrio cholerae 01, biovar eltor   \n",
       "4                A001    Cholera due to Vibrio cholerae 01, biovar eltor   \n",
       "5                A009                               Cholera, unspecified   \n",
       "...               ...                                                ...   \n",
       "86852            Z992                       Dependence on renal dialysis   \n",
       "86853            Z993                           Dependence on wheelchair   \n",
       "86854           Z9981                  Dependence on supplemental oxygen   \n",
       "86855           Z9989  Dependence on other enabling machines and devices   \n",
       "86856  End of Content                                                NaN   \n",
       "\n",
       "0     CCSR Category CCSR Category Description Inpatient Default CCSR (Y/N/X)  \\\n",
       "1            DIG001      Intestinal infection                              Y   \n",
       "2            INF003      Bacterial infections                              N   \n",
       "3            DIG001      Intestinal infection                              Y   \n",
       "4            INF003      Bacterial infections                              N   \n",
       "5            DIG001      Intestinal infection                              Y   \n",
       "...             ...                       ...                            ...   \n",
       "86852        FAC025    Other specified status                              X   \n",
       "86853        FAC025    Other specified status                              X   \n",
       "86854        FAC025    Other specified status                              X   \n",
       "86855        FAC025    Other specified status                              X   \n",
       "86856           NaN                       NaN                            NaN   \n",
       "\n",
       "0     Outpatient Default CCSR (Y/N/X) Rationale for Default Assignment  \n",
       "1                                   Y         06 Infectious conditions  \n",
       "2                                   N         06 Infectious conditions  \n",
       "3                                   Y         06 Infectious conditions  \n",
       "4                                   N         06 Infectious conditions  \n",
       "5                                   Y         06 Infectious conditions  \n",
       "...                               ...                              ...  \n",
       "86852                               Y              99 Unacceptable PDX  \n",
       "86853                               Y              99 Unacceptable PDX  \n",
       "86854                               Y              99 Unacceptable PDX  \n",
       "86855                               Y              99 Unacceptable PDX  \n",
       "86856                             NaN                              NaN  \n",
       "\n",
       "[86856 rows x 7 columns]"
      ],
      "text/html": [
       "<div>\n",
       "<style scoped>\n",
       "    .dataframe tbody tr th:only-of-type {\n",
       "        vertical-align: middle;\n",
       "    }\n",
       "\n",
       "    .dataframe tbody tr th {\n",
       "        vertical-align: top;\n",
       "    }\n",
       "\n",
       "    .dataframe thead th {\n",
       "        text-align: right;\n",
       "    }\n",
       "</style>\n",
       "<table border=\"1\" class=\"dataframe\">\n",
       "  <thead>\n",
       "    <tr style=\"text-align: right;\">\n",
       "      <th></th>\n",
       "      <th>ICD-10-CM Code</th>\n",
       "      <th>ICD-10-CM Code Description</th>\n",
       "      <th>CCSR Category</th>\n",
       "      <th>CCSR Category Description</th>\n",
       "      <th>Inpatient Default CCSR (Y/N/X)</th>\n",
       "      <th>Outpatient Default CCSR (Y/N/X)</th>\n",
       "      <th>Rationale for Default Assignment</th>\n",
       "    </tr>\n",
       "  </thead>\n",
       "  <tbody>\n",
       "    <tr>\n",
       "      <th>1</th>\n",
       "      <td>A000</td>\n",
       "      <td>Cholera due to Vibrio cholerae 01, biovar chol...</td>\n",
       "      <td>DIG001</td>\n",
       "      <td>Intestinal infection</td>\n",
       "      <td>Y</td>\n",
       "      <td>Y</td>\n",
       "      <td>06 Infectious conditions</td>\n",
       "    </tr>\n",
       "    <tr>\n",
       "      <th>2</th>\n",
       "      <td>A000</td>\n",
       "      <td>Cholera due to Vibrio cholerae 01, biovar chol...</td>\n",
       "      <td>INF003</td>\n",
       "      <td>Bacterial infections</td>\n",
       "      <td>N</td>\n",
       "      <td>N</td>\n",
       "      <td>06 Infectious conditions</td>\n",
       "    </tr>\n",
       "    <tr>\n",
       "      <th>3</th>\n",
       "      <td>A001</td>\n",
       "      <td>Cholera due to Vibrio cholerae 01, biovar eltor</td>\n",
       "      <td>DIG001</td>\n",
       "      <td>Intestinal infection</td>\n",
       "      <td>Y</td>\n",
       "      <td>Y</td>\n",
       "      <td>06 Infectious conditions</td>\n",
       "    </tr>\n",
       "    <tr>\n",
       "      <th>4</th>\n",
       "      <td>A001</td>\n",
       "      <td>Cholera due to Vibrio cholerae 01, biovar eltor</td>\n",
       "      <td>INF003</td>\n",
       "      <td>Bacterial infections</td>\n",
       "      <td>N</td>\n",
       "      <td>N</td>\n",
       "      <td>06 Infectious conditions</td>\n",
       "    </tr>\n",
       "    <tr>\n",
       "      <th>5</th>\n",
       "      <td>A009</td>\n",
       "      <td>Cholera, unspecified</td>\n",
       "      <td>DIG001</td>\n",
       "      <td>Intestinal infection</td>\n",
       "      <td>Y</td>\n",
       "      <td>Y</td>\n",
       "      <td>06 Infectious conditions</td>\n",
       "    </tr>\n",
       "    <tr>\n",
       "      <th>...</th>\n",
       "      <td>...</td>\n",
       "      <td>...</td>\n",
       "      <td>...</td>\n",
       "      <td>...</td>\n",
       "      <td>...</td>\n",
       "      <td>...</td>\n",
       "      <td>...</td>\n",
       "    </tr>\n",
       "    <tr>\n",
       "      <th>86852</th>\n",
       "      <td>Z992</td>\n",
       "      <td>Dependence on renal dialysis</td>\n",
       "      <td>FAC025</td>\n",
       "      <td>Other specified status</td>\n",
       "      <td>X</td>\n",
       "      <td>Y</td>\n",
       "      <td>99 Unacceptable PDX</td>\n",
       "    </tr>\n",
       "    <tr>\n",
       "      <th>86853</th>\n",
       "      <td>Z993</td>\n",
       "      <td>Dependence on wheelchair</td>\n",
       "      <td>FAC025</td>\n",
       "      <td>Other specified status</td>\n",
       "      <td>X</td>\n",
       "      <td>Y</td>\n",
       "      <td>99 Unacceptable PDX</td>\n",
       "    </tr>\n",
       "    <tr>\n",
       "      <th>86854</th>\n",
       "      <td>Z9981</td>\n",
       "      <td>Dependence on supplemental oxygen</td>\n",
       "      <td>FAC025</td>\n",
       "      <td>Other specified status</td>\n",
       "      <td>X</td>\n",
       "      <td>Y</td>\n",
       "      <td>99 Unacceptable PDX</td>\n",
       "    </tr>\n",
       "    <tr>\n",
       "      <th>86855</th>\n",
       "      <td>Z9989</td>\n",
       "      <td>Dependence on other enabling machines and devices</td>\n",
       "      <td>FAC025</td>\n",
       "      <td>Other specified status</td>\n",
       "      <td>X</td>\n",
       "      <td>Y</td>\n",
       "      <td>99 Unacceptable PDX</td>\n",
       "    </tr>\n",
       "    <tr>\n",
       "      <th>86856</th>\n",
       "      <td>End of Content</td>\n",
       "      <td>NaN</td>\n",
       "      <td>NaN</td>\n",
       "      <td>NaN</td>\n",
       "      <td>NaN</td>\n",
       "      <td>NaN</td>\n",
       "      <td>NaN</td>\n",
       "    </tr>\n",
       "  </tbody>\n",
       "</table>\n",
       "<p>86856 rows × 7 columns</p>\n",
       "</div>"
      ]
     },
     "execution_count": 224,
     "metadata": {},
     "output_type": "execute_result"
    }
   ],
   "execution_count": 224
  },
  {
   "metadata": {
    "ExecuteTime": {
     "end_time": "2024-04-23T13:57:10.674371Z",
     "start_time": "2024-04-23T13:57:10.670421Z"
    }
   },
   "cell_type": "code",
   "source": [
    "# print(df_dx_ccsr.shape)\n",
    "# df_dx_ccsr.dtypes"
   ],
   "id": "ba2dd6870eef61b4",
   "outputs": [],
   "execution_count": 225
  },
  {
   "metadata": {
    "ExecuteTime": {
     "end_time": "2024-04-23T13:57:10.785395Z",
     "start_time": "2024-04-23T13:57:10.677268Z"
    }
   },
   "cell_type": "code",
   "source": [
    "list_ccsr = df_dx_ccsr['ICD-10-CM Code'].sort_values(ascending=True).to_list()\n",
    "\n",
    "# Delete duplicate \n",
    "list_ccsr = list(set(list_ccsr)) \n",
    "\n",
    "print(\"Total number of ICD codes on HCCUP:\", len(list_ccsr))\n"
   ],
   "id": "b53993f175b47e70",
   "outputs": [
    {
     "name": "stdout",
     "output_type": "stream",
     "text": [
      "Total number of ICD codes on HCCUP: 74987\n"
     ]
    }
   ],
   "execution_count": 226
  },
  {
   "metadata": {},
   "cell_type": "markdown",
   "source": "# Cross-Matching DX code on Maternal Mobidity for CCSR (HCUP)",
   "id": "9cd536ed53e02deb"
  },
  {
   "metadata": {
    "ExecuteTime": {
     "end_time": "2024-04-23T13:57:10.799694Z",
     "start_time": "2024-04-23T13:57:10.787751Z"
    }
   },
   "cell_type": "code",
   "source": [
    "set_dx = set(list_dx)\n",
    "set_ccsr = set(list_ccsr)\n",
    "\n",
    "def get_matched_pairs(set_dx, set_ccsr):\n",
    "    \"\"\"\n",
    "    Create a list of matched pairs from the intersections between two sets.\n",
    "\n",
    "    Args:\n",
    "        set_dx (set): A set of elements.\n",
    "        set_ccs (set): Another set of elements.\n",
    "\n",
    "    Returns:\n",
    "        list: A list of tuples, where each tuple represents a matched pair.\n",
    "    \"\"\"\n",
    "    intersection = set_dx.intersection(set_ccsr)\n",
    "    matched_pairs = [(x, x) for x in intersection]\n",
    "    return matched_pairs\n",
    "\n",
    "matched_pairs = get_matched_pairs(set_dx, set_ccsr)\n",
    "matched_list = [item for pair in matched_pairs for item in pair]\n",
    "\n",
    "# matched_list\n"
   ],
   "id": "b7e0a81b583ba9a9",
   "outputs": [],
   "execution_count": 227
  },
  {
   "metadata": {
    "ExecuteTime": {
     "end_time": "2024-04-23T13:57:13.770421Z",
     "start_time": "2024-04-23T13:57:13.765152Z"
    }
   },
   "cell_type": "code",
   "source": "print(\"Numbers of exact matches for Maternal Morbidity ICD-10 codes and HCUP CCSR codes:\", len(matched_list))",
   "id": "343a41aea60ba326",
   "outputs": [
    {
     "name": "stdout",
     "output_type": "stream",
     "text": [
      "Numbers of exact matches for Maternal Morbidity ICD-10 codes and HCUP CCSR codes: 384\n"
     ]
    }
   ],
   "execution_count": 228
  },
  {
   "metadata": {
    "ExecuteTime": {
     "end_time": "2024-04-23T13:54:08.519320Z",
     "start_time": "2024-04-23T13:54:08.500965Z"
    }
   },
   "cell_type": "code",
   "source": "list_dx_new\n",
   "id": "9b851545e143169e",
   "outputs": [
    {
     "data": {
      "text/plain": [
       "['0B110F4',\n",
       " '0B113F4',\n",
       " '0B114F4',\n",
       " '0UT90ZL',\n",
       " '0UT90ZZ',\n",
       " '0UT97ZZ',\n",
       " '10D00Z0-10D00Z2',\n",
       " '10D07Z3-0D07Z8',\n",
       " '10E0XZZ',\n",
       " '30230H0',\n",
       " '30230H1',\n",
       " '30230K0',\n",
       " '30230K1',\n",
       " '30230L0',\n",
       " '30230L1',\n",
       " '30230M0',\n",
       " '30230M1',\n",
       " '30230N0',\n",
       " '30230N1',\n",
       " '30230P0',\n",
       " '30230P1',\n",
       " '30230R0',\n",
       " '30230R1',\n",
       " '30230T0',\n",
       " '30230T1',\n",
       " '30233H0',\n",
       " '30233H1',\n",
       " '30233K0',\n",
       " '30233K1',\n",
       " '30233L0',\n",
       " '30233L1',\n",
       " '30233M0',\n",
       " '30233M1',\n",
       " '30233N0',\n",
       " '30233N1',\n",
       " '30233P0',\n",
       " '30233P1',\n",
       " '30233R0',\n",
       " '30233R1',\n",
       " '30233T0',\n",
       " '30233T1',\n",
       " '30240H0',\n",
       " '30240H1',\n",
       " '30240K0',\n",
       " '30240K1',\n",
       " '30240L0',\n",
       " '30240L1',\n",
       " '30240M0',\n",
       " '30240M1',\n",
       " '30240N0',\n",
       " '30240N1',\n",
       " '30240P0',\n",
       " '30240P1',\n",
       " '30240R0',\n",
       " '30240R1',\n",
       " '30240T0',\n",
       " '30240T1',\n",
       " '30243H0',\n",
       " '30243H1',\n",
       " '30243K0',\n",
       " '30243K1',\n",
       " '30243L0',\n",
       " '30243L1',\n",
       " '30243M0',\n",
       " '30243M1',\n",
       " '30243N0',\n",
       " '30243N1',\n",
       " '30243P0',\n",
       " '30243P1',\n",
       " '30243R0',\n",
       " '30243R1',\n",
       " '30243T0',\n",
       " '30243T1',\n",
       " '5A12012',\n",
       " '5A1935Z',\n",
       " '5A1945Z',\n",
       " '5A1955Z',\n",
       " '5A2204Z',\n",
       " '765',\n",
       " '766',\n",
       " '767',\n",
       " '768',\n",
       " '774',\n",
       " '775',\n",
       " '783',\n",
       " '784',\n",
       " '785',\n",
       " '786',\n",
       " '787',\n",
       " '788',\n",
       " '796',\n",
       " '797',\n",
       " '798',\n",
       " '805',\n",
       " '806',\n",
       " '807',\n",
       " '8883',\n",
       " 'A40x',\n",
       " 'A41x',\n",
       " 'Abruption',\n",
       " 'Abruption',\n",
       " 'AntepartumHemorrhage',\n",
       " 'AntepartumHemorrhage',\n",
       " \"AnyPRstartingwith'10A0'\",\n",
       " 'D570x',\n",
       " 'D5721x',\n",
       " 'D5741x',\n",
       " 'D5781x',\n",
       " 'G45x',\n",
       " 'G46x',\n",
       " 'H340x',\n",
       " 'I21xx',\n",
       " 'I22x',\n",
       " 'I46x',\n",
       " 'I490x',\n",
       " 'I60xx',\n",
       " 'I61xx',\n",
       " 'I62xx',\n",
       " 'I63xx',\n",
       " 'I65xx',\n",
       " 'I66xx',\n",
       " 'I67xx',\n",
       " 'I68xx',\n",
       " 'I71xx',\n",
       " 'I9712x',\n",
       " 'I9713x',\n",
       " 'I9781x',\n",
       " 'I9782x',\n",
       " 'ICD-10',\n",
       " 'ICD-10',\n",
       " 'ICD-10',\n",
       " 'ICD-10',\n",
       " 'ICD-10',\n",
       " 'ICD-10',\n",
       " 'ICD-10',\n",
       " 'ICD-10',\n",
       " 'ICD-10',\n",
       " 'ICD-10',\n",
       " 'J9582x',\n",
       " 'J960x',\n",
       " 'J962x',\n",
       " 'J969x',\n",
       " 'N17x',\n",
       " 'O00x',\n",
       " 'O01x',\n",
       " 'O02x',\n",
       " 'O03x',\n",
       " 'O04x',\n",
       " 'O07x',\n",
       " 'O08x',\n",
       " 'O15x',\n",
       " 'O890x',\n",
       " 'OUT97ZL',\n",
       " 'Previa',\n",
       " 'Previa',\n",
       " 'R57x',\n",
       " 'Z37xx']"
      ]
     },
     "execution_count": 201,
     "metadata": {},
     "output_type": "execute_result"
    }
   ],
   "execution_count": 201
  },
  {
   "metadata": {
    "ExecuteTime": {
     "end_time": "2024-04-23T13:36:42.568016Z",
     "start_time": "2024-04-23T13:36:37.166115Z"
    }
   },
   "cell_type": "code",
   "source": [
    "# Convert the search_list to a set for faster lookup\n",
    "list_dx_new = [value for value in list_dx if value not in matched_list]\n",
    "\n",
    "list_ccsr_new = [value for value in list_ccsr if value not in matched_list]\n",
    "\n",
    "series_dx_new = pd.Series(list_dx_new)\n",
    "\n",
    "series_dx_matched = series_dx_new.apply(\n",
    "  lambda x: process.extractOne(x, list_ccsr_new, scorer=fuzz.ratio)[0]\n",
    ")\n",
    "\n",
    "series_dx_matched\n",
    "\n",
    "\n"
   ],
   "id": "16a2c8d58e3a6ca7",
   "outputs": [
    {
     "data": {
      "text/plain": [
       "0        A0104\n",
       "1       H01134\n",
       "2       H01144\n",
       "3         C090\n",
       "4         C090\n",
       "        ...   \n",
       "152      O0970\n",
       "153        I5A\n",
       "154        I5A\n",
       "155       R457\n",
       "156    O337XX0\n",
       "Length: 157, dtype: object"
      ]
     },
     "execution_count": 179,
     "metadata": {},
     "output_type": "execute_result"
    }
   ],
   "execution_count": 179
  },
  {
   "metadata": {
    "ExecuteTime": {
     "end_time": "2024-04-23T13:36:47.157687Z",
     "start_time": "2024-04-23T13:36:47.143435Z"
    }
   },
   "cell_type": "code",
   "source": [
    "#Create a column name  for series_dx_changed\n",
    "series_dx_matched = series_dx_matched.to_frame('ICD-10-CM Code')\n",
    "# Add a new column for the original ICD-10 code\n",
    "series_dx_matched['Original'] = series_dx_new\n",
    "\n",
    "series_dx_matched"
   ],
   "id": "6c03ca70560b2132",
   "outputs": [
    {
     "data": {
      "text/plain": [
       "    ICD-10-CM Code Original\n",
       "0            A0104  0B110F4\n",
       "1           H01134  0B113F4\n",
       "2           H01144  0B114F4\n",
       "3             C090  0UT90ZL\n",
       "4             C090  0UT90ZZ\n",
       "..             ...      ...\n",
       "152          O0970  OUT97ZL\n",
       "153            I5A   Previa\n",
       "154            I5A   Previa\n",
       "155           R457     R57x\n",
       "156        O337XX0    Z37xx\n",
       "\n",
       "[157 rows x 2 columns]"
      ],
      "text/html": [
       "<div>\n",
       "<style scoped>\n",
       "    .dataframe tbody tr th:only-of-type {\n",
       "        vertical-align: middle;\n",
       "    }\n",
       "\n",
       "    .dataframe tbody tr th {\n",
       "        vertical-align: top;\n",
       "    }\n",
       "\n",
       "    .dataframe thead th {\n",
       "        text-align: right;\n",
       "    }\n",
       "</style>\n",
       "<table border=\"1\" class=\"dataframe\">\n",
       "  <thead>\n",
       "    <tr style=\"text-align: right;\">\n",
       "      <th></th>\n",
       "      <th>ICD-10-CM Code</th>\n",
       "      <th>Original</th>\n",
       "    </tr>\n",
       "  </thead>\n",
       "  <tbody>\n",
       "    <tr>\n",
       "      <th>0</th>\n",
       "      <td>A0104</td>\n",
       "      <td>0B110F4</td>\n",
       "    </tr>\n",
       "    <tr>\n",
       "      <th>1</th>\n",
       "      <td>H01134</td>\n",
       "      <td>0B113F4</td>\n",
       "    </tr>\n",
       "    <tr>\n",
       "      <th>2</th>\n",
       "      <td>H01144</td>\n",
       "      <td>0B114F4</td>\n",
       "    </tr>\n",
       "    <tr>\n",
       "      <th>3</th>\n",
       "      <td>C090</td>\n",
       "      <td>0UT90ZL</td>\n",
       "    </tr>\n",
       "    <tr>\n",
       "      <th>4</th>\n",
       "      <td>C090</td>\n",
       "      <td>0UT90ZZ</td>\n",
       "    </tr>\n",
       "    <tr>\n",
       "      <th>...</th>\n",
       "      <td>...</td>\n",
       "      <td>...</td>\n",
       "    </tr>\n",
       "    <tr>\n",
       "      <th>152</th>\n",
       "      <td>O0970</td>\n",
       "      <td>OUT97ZL</td>\n",
       "    </tr>\n",
       "    <tr>\n",
       "      <th>153</th>\n",
       "      <td>I5A</td>\n",
       "      <td>Previa</td>\n",
       "    </tr>\n",
       "    <tr>\n",
       "      <th>154</th>\n",
       "      <td>I5A</td>\n",
       "      <td>Previa</td>\n",
       "    </tr>\n",
       "    <tr>\n",
       "      <th>155</th>\n",
       "      <td>R457</td>\n",
       "      <td>R57x</td>\n",
       "    </tr>\n",
       "    <tr>\n",
       "      <th>156</th>\n",
       "      <td>O337XX0</td>\n",
       "      <td>Z37xx</td>\n",
       "    </tr>\n",
       "  </tbody>\n",
       "</table>\n",
       "<p>157 rows × 2 columns</p>\n",
       "</div>"
      ]
     },
     "execution_count": 180,
     "metadata": {},
     "output_type": "execute_result"
    }
   ],
   "execution_count": 180
  },
  {
   "metadata": {
    "ExecuteTime": {
     "start_time": "2024-04-22T21:05:54.005216Z"
    }
   },
   "cell_type": "code",
   "source": [
    "# Find the subset where the column contains any element from the search_list\n",
    "df_dx_ccsr_mm = df_dx_ccsr[df_dx_ccsr['ICD-10-CM Code'].isin(search_set_dx_mm)]\n",
    "print(df_dx_ccsr_mm.shape)\n",
    "# The first filtered dataset \n",
    "df_dx_ccsr_mm"
   ],
   "id": "48b78fd97a56138",
   "outputs": [],
   "execution_count": null
  },
  {
   "metadata": {
    "ExecuteTime": {
     "start_time": "2024-04-22T21:05:54.007378Z"
    }
   },
   "cell_type": "code",
   "source": [
    "series_dx = pd.Series(list_dx)\n",
    "series_dx_changed = series_dx.apply(\n",
    "  lambda x: process.extractOne(x, df_dx_ccsr[\"ICD-10-CM Code\"], scorer=fuzz.ratio)[0]\n",
    ")\n",
    "#Create a column name  for series_dx_changed\n",
    "series_dx_changed = series_dx_changed.to_frame('ICD-10-CM Code')\n",
    "# Add a new column for the original ICD-10 code\n",
    "series_dx_changed['Original'] = series_dx\n",
    "\n",
    "series_dx_changed\n"
   ],
   "id": "133b653b3e0655ef",
   "outputs": [],
   "execution_count": null
  },
  {
   "metadata": {
    "ExecuteTime": {
     "end_time": "2024-04-22T21:05:54.052976Z",
     "start_time": "2024-04-22T21:05:54.009357Z"
    }
   },
   "cell_type": "code",
   "source": "",
   "id": "e5967c18dff48e12",
   "outputs": [],
   "execution_count": null
  },
  {
   "metadata": {
    "ExecuteTime": {
     "start_time": "2024-04-22T21:05:54.011284Z"
    }
   },
   "cell_type": "code",
   "source": [
    "# match the ICD-10 codes in the list_dx to the ICD-10-CM codes in the df_dx_ccsr dataframe using regular expression \n",
    "\n",
    "        "
   ],
   "id": "d960fdec6bd56b4d",
   "outputs": [],
   "execution_count": null
  },
  {
   "metadata": {
    "ExecuteTime": {
     "start_time": "2024-04-22T21:05:54.013096Z"
    }
   },
   "cell_type": "code",
   "source": [
    "# Regular expression pattern\n",
    "import re\n",
    "pattern = r'^(\\w+*)$'\n",
    "\n",
    "# Match the two lists\n",
    "matched_pairs = []\n",
    "for item1 in list_dx:\n",
    "    for item2 in list_ccsr:\n",
    "        match = re.match(pattern, item2)\n",
    "        if match and match == item1:\n",
    "            matched_pairs.append((item1, item2))\n",
    "\n",
    "# Print the matched pairs\n",
    "print(\"Matched pairs:\")\n",
    "for pair in matched_pairs:\n",
    "    print(pair)"
   ],
   "id": "a01efed9a926174d",
   "outputs": [],
   "execution_count": null
  },
  {
   "metadata": {
    "ExecuteTime": {
     "start_time": "2024-04-22T21:05:54.015557Z"
    }
   },
   "cell_type": "code",
   "source": [
    "# df_ccsr_MM = pd.merge(df_icd10_smm, df_dx_ccsr, how='right', left_on='ICD-10', right_on='ICD-10-CM Code',suffixes=('_mm','_ccsr'))\n",
    "#                       \n",
    "# df_ccsr_MM          "
   ],
   "id": "464b00165bb4e815",
   "outputs": [],
   "execution_count": null
  },
  {
   "metadata": {
    "ExecuteTime": {
     "start_time": "2024-04-22T21:05:54.017810Z"
    }
   },
   "cell_type": "code",
   "source": "",
   "id": "969a51536824fa3e",
   "outputs": [],
   "execution_count": null
  }
 ],
 "metadata": {
  "kernelspec": {
   "display_name": "Python 3",
   "language": "python",
   "name": "python3"
  },
  "language_info": {
   "codemirror_mode": {
    "name": "ipython",
    "version": 2
   },
   "file_extension": ".py",
   "mimetype": "text/x-python",
   "name": "python",
   "nbconvert_exporter": "python",
   "pygments_lexer": "ipython2",
   "version": "2.7.6"
  }
 },
 "nbformat": 4,
 "nbformat_minor": 5
}
