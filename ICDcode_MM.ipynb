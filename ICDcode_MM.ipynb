{
 "cells": [
  {
   "metadata": {},
   "cell_type": "markdown",
   "source": "# Maternal Morbidity ICD Codes \n",
   "id": "128e3ebe6ec759e1"
  },
  {
   "metadata": {},
   "cell_type": "markdown",
   "source": [
    "\n",
    "@Author: Georgia Liu \n",
    "@Last update: 2024-04-24\n",
    "\n",
    "This code finds a crosswalk of Maternal Morbidity (MM) on ICD10 and CCSR code and provide a subset of ICD10-CCSR reference code on Maternal Morbidity. We will use this subset for finding datasets on HCUD and MEPS database related on MM. \n",
    "\n",
    "It is to note that Maternal Morbidity is different from \"Severe Maternal Morbidity\" and \"Maternal Mortality\" which have their own specific ICD codes.\n",
    "\n",
    "The steps are:\n",
    "1. Get the unique ICD codes on Maternal Morbidity that is listed by the World Health Organization (WHO): https://app.box.com/file/1512322912485 (Chapter15_ICD_MM2012.xlsx)\n",
    "2. Crosswalk the WHO_ICD code on Maternal Morbidity to the Clinical Classifications Software Refined (CCSR) code for ICD-10-CM Diagnoses (HCUP CCSR codes) using the mapping file: https://app.box.com/file/1506401379868 \n",
    "3. Get a subset of the DXCCSR_Reference-File-v2023-1.xlsx that contains only the matched Maternal Morbidity ICD codes and their corresponding CCSR codes: Output/DX_ccsr_matched_on_MM.csv \n",
    "\n",
    "Detailed description of the HCUP, MEPS and ICD10 datasets summary: https://app.box.com/file/1506475220630?s=jk3qt0g8fdrauixxgp2vc2yffwo84u3u\n"
   ],
   "id": "9e531e347339526b"
  },
  {
   "cell_type": "code",
   "id": "initial_id",
   "metadata": {
    "collapsed": true,
    "ExecuteTime": {
     "end_time": "2024-04-24T20:38:37.222506Z",
     "start_time": "2024-04-24T20:38:37.216873Z"
    }
   },
   "source": [
    "import pandas as pd\n",
    "import numpy as np\n",
    "import matplotlib.pyplot as plt\n",
    "import math\n",
    "from thefuzz import process, fuzz\n"
   ],
   "outputs": [],
   "execution_count": 435
  },
  {
   "metadata": {},
   "cell_type": "markdown",
   "source": "# Read ICD code on Severe Maternal Morbidity \n",
   "id": "fd3cf36d7b2fecc3"
  },
  {
   "metadata": {
    "ExecuteTime": {
     "end_time": "2024-04-24T19:27:32.754090Z",
     "start_time": "2024-04-24T19:27:32.589693Z"
    }
   },
   "cell_type": "code",
   "source": [
    "df_mm = pd.read_excel(\"Dataset/Chapter15_ICD_MM2012.xlsx\", sheet_name='Obstetric codes', header=None, dtype=str)\n",
    "\n",
    "df_mm = df_mm.iloc[10:].reset_index(drop=True)\n",
    "\n",
    "new_header = df_mm.iloc[0] #grab the first row for the header\n",
    "df_mm = df_mm[1:] #take the data less the header row\n",
    "df_mm.columns = new_header #set the header row as the df header\n",
    "\n",
    "df_mm.head(5)\n",
    "\n",
    "list_dx = df_mm['ICD-10 Code,      2010 edition'].to_list()\n"
   ],
   "id": "3a2a827e8606fb6e",
   "outputs": [],
   "execution_count": 349
  },
  {
   "metadata": {
    "ExecuteTime": {
     "end_time": "2024-04-24T19:38:26.565919Z",
     "start_time": "2024-04-24T19:38:26.557824Z"
    }
   },
   "cell_type": "code",
   "source": [
    "list_dx = [x for x in list_dx if not (isinstance(x, float) and math.isnan(x))]\n",
    "\n",
    "list_dx = [element.replace(\".\", \"\") for element in list_dx]\n",
    "list_dx = [element.replace(\" \", \"\") for element in list_dx]\n",
    "\n",
    "# Delete duplicate \n",
    "list_dx = list(set(list_dx)) \n",
    "\n",
    "# list_dx = [value for value in list_dx if value not in values_to_remove]\n",
    "\n",
    "list_dx.sort()\n",
    "# print(list_dx)\n",
    "print(\"Total number of ICD codes for Maternal Morbidity (ICD-MM):\", len(list_dx))\n"
   ],
   "id": "5b96207d5e5ba70",
   "outputs": [
    {
     "name": "stdout",
     "output_type": "stream",
     "text": [
      "Total number of ICD codes for Maternal Morbidity (ICD-MM): 503\n"
     ]
    }
   ],
   "execution_count": 378
  },
  {
   "metadata": {},
   "cell_type": "markdown",
   "source": "# Read HCUP CCSR",
   "id": "caa7bce7e0f457c8"
  },
  {
   "metadata": {
    "ExecuteTime": {
     "end_time": "2024-04-24T19:33:51.509066Z",
     "start_time": "2024-04-24T19:33:35.934757Z"
    }
   },
   "cell_type": "code",
   "source": [
    "df_dx_ccsr = pd.read_excel(\"Dataset/HCUP-CCSR/DXCCSR-Reference-File-v2024-1.xlsx\", sheet_name=\"DX_to_CCSR_Mapping\", header=None).iloc[1:].reset_index(drop=True)\n",
    "\n",
    "new_header = df_dx_ccsr.iloc[0] #grab the first row for the header\n",
    "df_dx_ccsr = df_dx_ccsr[1:] #take the data less the header row\n",
    "df_dx_ccsr.columns = new_header #set the header row as the df header\n",
    "\n",
    "df_dx_ccsr"
   ],
   "id": "720a0eafdf54812b",
   "outputs": [
    {
     "data": {
      "text/plain": [
       "0      ICD-10-CM Code                         ICD-10-CM Code Description  \\\n",
       "1                A000  Cholera due to Vibrio cholerae 01, biovar chol...   \n",
       "2                A000  Cholera due to Vibrio cholerae 01, biovar chol...   \n",
       "3                A001    Cholera due to Vibrio cholerae 01, biovar eltor   \n",
       "4                A001    Cholera due to Vibrio cholerae 01, biovar eltor   \n",
       "5                A009                               Cholera, unspecified   \n",
       "...               ...                                                ...   \n",
       "86852            Z992                       Dependence on renal dialysis   \n",
       "86853            Z993                           Dependence on wheelchair   \n",
       "86854           Z9981                  Dependence on supplemental oxygen   \n",
       "86855           Z9989  Dependence on other enabling machines and devices   \n",
       "86856  End of Content                                                NaN   \n",
       "\n",
       "0     CCSR Category CCSR Category Description Inpatient Default CCSR (Y/N/X)  \\\n",
       "1            DIG001      Intestinal infection                              Y   \n",
       "2            INF003      Bacterial infections                              N   \n",
       "3            DIG001      Intestinal infection                              Y   \n",
       "4            INF003      Bacterial infections                              N   \n",
       "5            DIG001      Intestinal infection                              Y   \n",
       "...             ...                       ...                            ...   \n",
       "86852        FAC025    Other specified status                              X   \n",
       "86853        FAC025    Other specified status                              X   \n",
       "86854        FAC025    Other specified status                              X   \n",
       "86855        FAC025    Other specified status                              X   \n",
       "86856           NaN                       NaN                            NaN   \n",
       "\n",
       "0     Outpatient Default CCSR (Y/N/X) Rationale for Default Assignment  \n",
       "1                                   Y         06 Infectious conditions  \n",
       "2                                   N         06 Infectious conditions  \n",
       "3                                   Y         06 Infectious conditions  \n",
       "4                                   N         06 Infectious conditions  \n",
       "5                                   Y         06 Infectious conditions  \n",
       "...                               ...                              ...  \n",
       "86852                               Y              99 Unacceptable PDX  \n",
       "86853                               Y              99 Unacceptable PDX  \n",
       "86854                               Y              99 Unacceptable PDX  \n",
       "86855                               Y              99 Unacceptable PDX  \n",
       "86856                             NaN                              NaN  \n",
       "\n",
       "[86856 rows x 7 columns]"
      ],
      "text/html": [
       "<div>\n",
       "<style scoped>\n",
       "    .dataframe tbody tr th:only-of-type {\n",
       "        vertical-align: middle;\n",
       "    }\n",
       "\n",
       "    .dataframe tbody tr th {\n",
       "        vertical-align: top;\n",
       "    }\n",
       "\n",
       "    .dataframe thead th {\n",
       "        text-align: right;\n",
       "    }\n",
       "</style>\n",
       "<table border=\"1\" class=\"dataframe\">\n",
       "  <thead>\n",
       "    <tr style=\"text-align: right;\">\n",
       "      <th></th>\n",
       "      <th>ICD-10-CM Code</th>\n",
       "      <th>ICD-10-CM Code Description</th>\n",
       "      <th>CCSR Category</th>\n",
       "      <th>CCSR Category Description</th>\n",
       "      <th>Inpatient Default CCSR (Y/N/X)</th>\n",
       "      <th>Outpatient Default CCSR (Y/N/X)</th>\n",
       "      <th>Rationale for Default Assignment</th>\n",
       "    </tr>\n",
       "  </thead>\n",
       "  <tbody>\n",
       "    <tr>\n",
       "      <th>1</th>\n",
       "      <td>A000</td>\n",
       "      <td>Cholera due to Vibrio cholerae 01, biovar chol...</td>\n",
       "      <td>DIG001</td>\n",
       "      <td>Intestinal infection</td>\n",
       "      <td>Y</td>\n",
       "      <td>Y</td>\n",
       "      <td>06 Infectious conditions</td>\n",
       "    </tr>\n",
       "    <tr>\n",
       "      <th>2</th>\n",
       "      <td>A000</td>\n",
       "      <td>Cholera due to Vibrio cholerae 01, biovar chol...</td>\n",
       "      <td>INF003</td>\n",
       "      <td>Bacterial infections</td>\n",
       "      <td>N</td>\n",
       "      <td>N</td>\n",
       "      <td>06 Infectious conditions</td>\n",
       "    </tr>\n",
       "    <tr>\n",
       "      <th>3</th>\n",
       "      <td>A001</td>\n",
       "      <td>Cholera due to Vibrio cholerae 01, biovar eltor</td>\n",
       "      <td>DIG001</td>\n",
       "      <td>Intestinal infection</td>\n",
       "      <td>Y</td>\n",
       "      <td>Y</td>\n",
       "      <td>06 Infectious conditions</td>\n",
       "    </tr>\n",
       "    <tr>\n",
       "      <th>4</th>\n",
       "      <td>A001</td>\n",
       "      <td>Cholera due to Vibrio cholerae 01, biovar eltor</td>\n",
       "      <td>INF003</td>\n",
       "      <td>Bacterial infections</td>\n",
       "      <td>N</td>\n",
       "      <td>N</td>\n",
       "      <td>06 Infectious conditions</td>\n",
       "    </tr>\n",
       "    <tr>\n",
       "      <th>5</th>\n",
       "      <td>A009</td>\n",
       "      <td>Cholera, unspecified</td>\n",
       "      <td>DIG001</td>\n",
       "      <td>Intestinal infection</td>\n",
       "      <td>Y</td>\n",
       "      <td>Y</td>\n",
       "      <td>06 Infectious conditions</td>\n",
       "    </tr>\n",
       "    <tr>\n",
       "      <th>...</th>\n",
       "      <td>...</td>\n",
       "      <td>...</td>\n",
       "      <td>...</td>\n",
       "      <td>...</td>\n",
       "      <td>...</td>\n",
       "      <td>...</td>\n",
       "      <td>...</td>\n",
       "    </tr>\n",
       "    <tr>\n",
       "      <th>86852</th>\n",
       "      <td>Z992</td>\n",
       "      <td>Dependence on renal dialysis</td>\n",
       "      <td>FAC025</td>\n",
       "      <td>Other specified status</td>\n",
       "      <td>X</td>\n",
       "      <td>Y</td>\n",
       "      <td>99 Unacceptable PDX</td>\n",
       "    </tr>\n",
       "    <tr>\n",
       "      <th>86853</th>\n",
       "      <td>Z993</td>\n",
       "      <td>Dependence on wheelchair</td>\n",
       "      <td>FAC025</td>\n",
       "      <td>Other specified status</td>\n",
       "      <td>X</td>\n",
       "      <td>Y</td>\n",
       "      <td>99 Unacceptable PDX</td>\n",
       "    </tr>\n",
       "    <tr>\n",
       "      <th>86854</th>\n",
       "      <td>Z9981</td>\n",
       "      <td>Dependence on supplemental oxygen</td>\n",
       "      <td>FAC025</td>\n",
       "      <td>Other specified status</td>\n",
       "      <td>X</td>\n",
       "      <td>Y</td>\n",
       "      <td>99 Unacceptable PDX</td>\n",
       "    </tr>\n",
       "    <tr>\n",
       "      <th>86855</th>\n",
       "      <td>Z9989</td>\n",
       "      <td>Dependence on other enabling machines and devices</td>\n",
       "      <td>FAC025</td>\n",
       "      <td>Other specified status</td>\n",
       "      <td>X</td>\n",
       "      <td>Y</td>\n",
       "      <td>99 Unacceptable PDX</td>\n",
       "    </tr>\n",
       "    <tr>\n",
       "      <th>86856</th>\n",
       "      <td>End of Content</td>\n",
       "      <td>NaN</td>\n",
       "      <td>NaN</td>\n",
       "      <td>NaN</td>\n",
       "      <td>NaN</td>\n",
       "      <td>NaN</td>\n",
       "      <td>NaN</td>\n",
       "    </tr>\n",
       "  </tbody>\n",
       "</table>\n",
       "<p>86856 rows × 7 columns</p>\n",
       "</div>"
      ]
     },
     "execution_count": 369,
     "metadata": {},
     "output_type": "execute_result"
    }
   ],
   "execution_count": 369
  },
  {
   "metadata": {
    "ExecuteTime": {
     "end_time": "2024-04-24T19:33:51.629010Z",
     "start_time": "2024-04-24T19:33:51.513054Z"
    }
   },
   "cell_type": "code",
   "source": [
    "list_ccsr = df_dx_ccsr['ICD-10-CM Code'].sort_values(ascending=True).to_list()\n",
    "\n",
    "# Delete duplicate \n",
    "list_ccsr = list(set(list_ccsr))\n",
    "\n",
    "print(\"Total number of ICD codes on HCCUP:\", len(list_ccsr))"
   ],
   "id": "9fbc7d0f06e39e8d",
   "outputs": [
    {
     "name": "stdout",
     "output_type": "stream",
     "text": [
      "Total number of ICD codes on HCCUP: 74987\n"
     ]
    }
   ],
   "execution_count": 370
  },
  {
   "metadata": {},
   "cell_type": "markdown",
   "source": [
    "\n",
    "# Cross-Matching DX code on Maternal Mobidity for CCSR (HCUP)"
   ],
   "id": "813999ac1922f127"
  },
  {
   "metadata": {
    "ExecuteTime": {
     "end_time": "2024-04-24T19:38:57.949232Z",
     "start_time": "2024-04-24T19:38:57.930707Z"
    }
   },
   "cell_type": "code",
   "source": [
    "set_dx = set(list_dx)\n",
    "set_ccsr = set(list_ccsr)\n",
    "\n",
    "def get_matched_pairs(set_dx, set_ccsr):\n",
    "    \"\"\"\n",
    "    Create a list of matched pairs from the intersections between two sets.\n",
    "\n",
    "    Args:\n",
    "        set_dx (set): A set of elements.\n",
    "        set_ccs (set): Another set of elements.\n",
    "\n",
    "    Returns:\n",
    "        list: A list of tuples, where each tuple represents a matched pair.\n",
    "    \"\"\"\n",
    "    intersection = set_dx.intersection(set_ccsr)\n",
    "    matched_pairs = [(x, x) for x in intersection]\n",
    "    return matched_pairs\n",
    "\n",
    "matched_pairs = get_matched_pairs(set_dx, set_ccsr)\n",
    "matched_list = [item for pair in matched_pairs for item in pair]\n",
    "\n",
    "# matched_list\n",
    "print(\"Numbers of exact matches for Maternal Morbidity ICD-10 codes and HCUP CCSR codes:\", len(matched_list))\n"
   ],
   "id": "78987d3f1d9baf68",
   "outputs": [
    {
     "name": "stdout",
     "output_type": "stream",
     "text": [
      "Numbers of exact matches for Maternal Morbidity ICD-10 codes and HCUP CCSR codes: 328\n"
     ]
    }
   ],
   "execution_count": 379
  },
  {
   "metadata": {
    "ExecuteTime": {
     "end_time": "2024-04-24T20:24:18.874933Z",
     "start_time": "2024-04-24T20:24:18.858910Z"
    }
   },
   "cell_type": "code",
   "source": [
    "df_matched_pairs = pd.DataFrame(matched_list, columns=['Maternal Morbidity Code from WHO'])\n",
    "df_matched_pairs['Matched DX code for CCSR']= df_matched_pairs['Maternal Morbidity Code from WHO'] \n",
    "df_matched_pairs.head(5)\n",
    "# Export this list to a csv file \n",
    "# df_matched_pairs.to_csv(\"Output/matched_pairs_DX_MM.csv\", index=False)"
   ],
   "id": "afb3669090c0c835",
   "outputs": [
    {
     "data": {
      "text/plain": [
       "  Maternal Morbidity Code from WHO Matched DX code for CCSR\n",
       "0                             O331                     O331\n",
       "1                             O331                     O331\n",
       "2                             O679                     O679\n",
       "3                             O679                     O679\n",
       "4                             O653                     O653"
      ],
      "text/html": [
       "<div>\n",
       "<style scoped>\n",
       "    .dataframe tbody tr th:only-of-type {\n",
       "        vertical-align: middle;\n",
       "    }\n",
       "\n",
       "    .dataframe tbody tr th {\n",
       "        vertical-align: top;\n",
       "    }\n",
       "\n",
       "    .dataframe thead th {\n",
       "        text-align: right;\n",
       "    }\n",
       "</style>\n",
       "<table border=\"1\" class=\"dataframe\">\n",
       "  <thead>\n",
       "    <tr style=\"text-align: right;\">\n",
       "      <th></th>\n",
       "      <th>Maternal Morbidity Code from WHO</th>\n",
       "      <th>Matched DX code for CCSR</th>\n",
       "    </tr>\n",
       "  </thead>\n",
       "  <tbody>\n",
       "    <tr>\n",
       "      <th>0</th>\n",
       "      <td>O331</td>\n",
       "      <td>O331</td>\n",
       "    </tr>\n",
       "    <tr>\n",
       "      <th>1</th>\n",
       "      <td>O331</td>\n",
       "      <td>O331</td>\n",
       "    </tr>\n",
       "    <tr>\n",
       "      <th>2</th>\n",
       "      <td>O679</td>\n",
       "      <td>O679</td>\n",
       "    </tr>\n",
       "    <tr>\n",
       "      <th>3</th>\n",
       "      <td>O679</td>\n",
       "      <td>O679</td>\n",
       "    </tr>\n",
       "    <tr>\n",
       "      <th>4</th>\n",
       "      <td>O653</td>\n",
       "      <td>O653</td>\n",
       "    </tr>\n",
       "  </tbody>\n",
       "</table>\n",
       "</div>"
      ]
     },
     "execution_count": 417,
     "metadata": {},
     "output_type": "execute_result"
    }
   ],
   "execution_count": 417
  },
  {
   "metadata": {
    "ExecuteTime": {
     "end_time": "2024-04-24T19:39:13.585229Z",
     "start_time": "2024-04-24T19:39:13.110567Z"
    }
   },
   "cell_type": "code",
   "source": [
    "list_dx_new = [value for value in list_dx if value not in matched_list]\n",
    "print(\"Numbers of Maternal Morbidity ICD-10 codes not fully matched:\", len(list_dx_new))\n",
    "list_ccsr_new = [value for value in list_ccsr if value not in matched_list]\n",
    "print(\"Numbers of CCSR ICD-10 codes not fully matched:\", len(list_ccsr_new))"
   ],
   "id": "9effa84df5114a7b",
   "outputs": [
    {
     "name": "stdout",
     "output_type": "stream",
     "text": [
      "Numbers of Maternal Morbidity ICD-10 codes not fully matched: 339\n",
      "Numbers of CCSR ICD-10 codes not fully matched: 74823\n"
     ]
    }
   ],
   "execution_count": 383
  },
  {
   "metadata": {
    "ExecuteTime": {
     "end_time": "2024-04-24T20:13:03.501949Z",
     "start_time": "2024-04-24T20:12:48.014970Z"
    }
   },
   "cell_type": "code",
   "source": [
    "# Cross-Matching remaining DX code on Maternal Mobidity for CCSR (HCUP) with partial match\n",
    "\n",
    "list_dx_new = [value for value in list_dx if value not in matched_list]\n",
    "\n",
    "list_ccsr_new = [value for value in list_ccsr if value not in matched_list]\n",
    "\n",
    "list_dx_semi_matched = []\n",
    "list_ccsr_semi_matched = []\n",
    "\n",
    "for mm_value in list_dx_new:\n",
    "\n",
    "    for ccsr_code in list_ccsr_new:\n",
    "        if (len(mm_value) == 3): \n",
    "            if mm_value[:3] == ccsr_code[:3]:\n",
    "                list_dx_semi_matched.append(mm_value)\n",
    "                list_ccsr_semi_matched.append(ccsr_code)\n",
    "\n",
    "            \n",
    "        elif (len(mm_value) == 4): \n",
    "            if (mm_value[:4] == ccsr_code[:4]):\n",
    "                list_dx_semi_matched.append(mm_value)\n",
    "                list_ccsr_semi_matched.append(ccsr_code)\n",
    "        else: \n",
    "            None\n",
    "                    "
   ],
   "id": "96e1c094b66fc8ed",
   "outputs": [],
   "execution_count": 409
  },
  {
   "metadata": {
    "ExecuteTime": {
     "end_time": "2024-04-24T20:15:59.217150Z",
     "start_time": "2024-04-24T20:15:59.200398Z"
    }
   },
   "cell_type": "code",
   "source": [
    "combined_list = list(zip(list_dx_semi_matched, list_ccsr_semi_matched))\n",
    "df_semi_matched_pairs = pd.DataFrame(combined_list, columns=['Maternal Morbidity Code','Matched CCSR Code'])\n",
    "\n",
    "df_semi_matched_pairs.head(5)"
   ],
   "id": "e42247e3d84b47d9",
   "outputs": [
    {
     "data": {
      "text/plain": [
       "  Maternal Morbidity Code Matched CCSR Code\n",
       "0                     O00            O00111\n",
       "1                     O00             O0010\n",
       "2                     O00            O00109\n",
       "3                     O00            O00219\n",
       "4                     O00            O00101"
      ],
      "text/html": [
       "<div>\n",
       "<style scoped>\n",
       "    .dataframe tbody tr th:only-of-type {\n",
       "        vertical-align: middle;\n",
       "    }\n",
       "\n",
       "    .dataframe tbody tr th {\n",
       "        vertical-align: top;\n",
       "    }\n",
       "\n",
       "    .dataframe thead th {\n",
       "        text-align: right;\n",
       "    }\n",
       "</style>\n",
       "<table border=\"1\" class=\"dataframe\">\n",
       "  <thead>\n",
       "    <tr style=\"text-align: right;\">\n",
       "      <th></th>\n",
       "      <th>Maternal Morbidity Code</th>\n",
       "      <th>Matched CCSR Code</th>\n",
       "    </tr>\n",
       "  </thead>\n",
       "  <tbody>\n",
       "    <tr>\n",
       "      <th>0</th>\n",
       "      <td>O00</td>\n",
       "      <td>O00111</td>\n",
       "    </tr>\n",
       "    <tr>\n",
       "      <th>1</th>\n",
       "      <td>O00</td>\n",
       "      <td>O0010</td>\n",
       "    </tr>\n",
       "    <tr>\n",
       "      <th>2</th>\n",
       "      <td>O00</td>\n",
       "      <td>O00109</td>\n",
       "    </tr>\n",
       "    <tr>\n",
       "      <th>3</th>\n",
       "      <td>O00</td>\n",
       "      <td>O00219</td>\n",
       "    </tr>\n",
       "    <tr>\n",
       "      <th>4</th>\n",
       "      <td>O00</td>\n",
       "      <td>O00101</td>\n",
       "    </tr>\n",
       "  </tbody>\n",
       "</table>\n",
       "</div>"
      ]
     },
     "execution_count": 411,
     "metadata": {},
     "output_type": "execute_result"
    }
   ],
   "execution_count": 411
  },
  {
   "metadata": {
    "ExecuteTime": {
     "end_time": "2024-04-24T20:27:02.744567Z",
     "start_time": "2024-04-24T20:27:02.736683Z"
    }
   },
   "cell_type": "code",
   "source": [
    "df_matched_pairs = pd.concat([df_matched_pairs,df_semi_matched_pairs], ignore_index = True)\n",
    "print(df_matched_pairs.shape)"
   ],
   "id": "c706706a03bd9fed",
   "outputs": [
    {
     "name": "stdout",
     "output_type": "stream",
     "text": [
      "(8528, 4)\n"
     ]
    }
   ],
   "execution_count": 422
  },
  {
   "metadata": {
    "ExecuteTime": {
     "end_time": "2024-04-24T20:27:15.654815Z",
     "start_time": "2024-04-24T20:27:15.631562Z"
    }
   },
   "cell_type": "code",
   "source": "df_matched_pairs.to_csv('Output/matched_pairs_DX_MM_final.csv', index=False)",
   "id": "e42713305dfcc3b4",
   "outputs": [],
   "execution_count": 423
  },
  {
   "metadata": {},
   "cell_type": "markdown",
   "source": "# Get subset of CCSR code on Maternal Morbidity based on partial match",
   "id": "ffbc8fb32bf77f31"
  },
  {
   "metadata": {
    "ExecuteTime": {
     "end_time": "2024-04-24T20:34:31.779462Z",
     "start_time": "2024-04-24T20:34:31.722807Z"
    }
   },
   "cell_type": "code",
   "source": [
    "# Merge datasets A and B with crosswalk C\n",
    "merged_data = pd.merge(df_dx_ccsr, df_matched_pairs, how='right', left_on='ICD-10-CM Code', right_on='Matched DX code for CCSR')\n"
   ],
   "id": "303b57b5968096ed",
   "outputs": [],
   "execution_count": 430
  },
  {
   "metadata": {
    "ExecuteTime": {
     "end_time": "2024-04-24T20:36:21.072775Z",
     "start_time": "2024-04-24T20:36:21.042268Z"
    }
   },
   "cell_type": "code",
   "source": "merged_data.to_csv(\"Output/DX_ccsr_matched_on_MM.csv\", index=False)",
   "id": "77b40145138042a4",
   "outputs": [],
   "execution_count": 434
  },
  {
   "metadata": {
    "ExecuteTime": {
     "end_time": "2024-04-24T20:34:49.377514Z",
     "start_time": "2024-04-24T20:34:49.369842Z"
    }
   },
   "cell_type": "code",
   "source": "df_dx_ccsr.shape",
   "id": "e85c7ddc72417314",
   "outputs": [
    {
     "data": {
      "text/plain": [
       "(86856, 7)"
      ]
     },
     "execution_count": 432,
     "metadata": {},
     "output_type": "execute_result"
    }
   ],
   "execution_count": 432
  }
 ],
 "metadata": {
  "kernelspec": {
   "display_name": "Python 3",
   "language": "python",
   "name": "python3"
  },
  "language_info": {
   "codemirror_mode": {
    "name": "ipython",
    "version": 2
   },
   "file_extension": ".py",
   "mimetype": "text/x-python",
   "name": "python",
   "nbconvert_exporter": "python",
   "pygments_lexer": "ipython2",
   "version": "2.7.6"
  }
 },
 "nbformat": 4,
 "nbformat_minor": 5
}
